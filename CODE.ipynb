{
 "cells": [
  {
   "cell_type": "markdown",
   "id": "0e3bee11",
   "metadata": {},
   "source": [
    "## Localisation du Label"
   ]
  },
  {
   "cell_type": "code",
   "execution_count": 27,
   "id": "231de2a1",
   "metadata": {},
   "outputs": [],
   "source": [
    "### Importations de modules\n",
    "\n",
    "import pytesseract\n",
    "from PIL import Image\n",
    "import cv2\n",
    "import numpy as np\n",
    "\n"
   ]
  },
  {
   "cell_type": "code",
   "execution_count": 28,
   "id": "0e8b3ded",
   "metadata": {},
   "outputs": [],
   "source": [
    "img = cv2.imread('/home/marco/Projet_Localisation_des_Signatures/cin/05.jpg')\n",
    "gray = cv2.cvtColor(img, cv2.COLOR_BGR2GRAY)\n",
    "data = pytesseract.image_to_data(gray, output_type=pytesseract.Output.DICT)\n",
    "for i, text in enumerate(data['text']):\n",
    "    if \"Signature et Empreintes\" in text:\n",
    "        x, y, w, h = data['left'][i], data['top'][i], data['width'][i], data['height'][i]\n",
    "        signature_roi = img[y+h+10:y+h+100, x:x+w]  # Ajuster la hauteur selon besoin\n",
    "        cv2.imwrite('signature_roi.jpg', signature_roi)\n",
    "\n",
    "        roi = cv2.cvtColor(signature_roi, cv2.COLOR_BGR2GRAY)\n",
    "        _, thresh = cv2.threshold(roi, 150, 255, cv2.THRESH_BINARY_INV)  # Inverser pour noir sur blanc\n",
    "        contours, _ = cv2.findContours(thresh, cv2.RETR_EXTERNAL, cv2.CHAIN_APPROX_SIMPLE)"
   ]
  },
  {
   "cell_type": "markdown",
   "id": "afb05063",
   "metadata": {},
   "source": [
    "## Approche par Deep Learning"
   ]
  },
  {
   "cell_type": "code",
   "execution_count": 29,
   "id": "c4c381a5",
   "metadata": {},
   "outputs": [
    {
     "name": "stdout",
     "output_type": "stream",
     "text": [
      "\n",
      "image 1/1 /home/marco/Projet_Localisation_des_Signatures/cin/05.jpg: 480x640 (no detections), 7.1ms\n",
      "Speed: 2.4ms preprocess, 7.1ms inference, 0.8ms postprocess per image at shape (1, 3, 480, 640)\n",
      "Results saved to \u001b[1mruns/detect/predict2\u001b[0m\n"
     ]
    }
   ],
   "source": [
    "## Utiliser YOLOv8 (entraînement personnalisé)µ\n",
    "\n",
    "from ultralytics import YOLO\n",
    "\n",
    "model = YOLO('yolov8n.pt')  # Fine-tuning avec vos données\n",
    "results = model.predict('/home/marco/Projet_Localisation_des_Signatures/cin/05.jpg', save=True)"
   ]
  },
  {
   "cell_type": "markdown",
   "id": "a40399c1",
   "metadata": {},
   "source": [
    "## Test Visuel "
   ]
  },
  {
   "cell_type": "code",
   "execution_count": null,
   "id": "19312f8f",
   "metadata": {},
   "outputs": [],
   "source": []
  }
 ],
 "metadata": {
  "kernelspec": {
   "display_name": ".env",
   "language": "python",
   "name": "python3"
  },
  "language_info": {
   "codemirror_mode": {
    "name": "ipython",
    "version": 3
   },
   "file_extension": ".py",
   "mimetype": "text/x-python",
   "name": "python",
   "nbconvert_exporter": "python",
   "pygments_lexer": "ipython3",
   "version": "3.10.12"
  }
 },
 "nbformat": 4,
 "nbformat_minor": 5
}
